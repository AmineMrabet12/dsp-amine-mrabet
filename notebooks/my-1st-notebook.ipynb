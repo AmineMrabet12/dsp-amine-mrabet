{
 "cells": [
  {
   "cell_type": "code",
   "execution_count": 1,
   "metadata": {},
   "outputs": [
    {
     "data": {
      "text/plain": [
       "array([[88, 79, 77],\n",
       "       [ 2, 46, 13],\n",
       "       [78, 60, 67],\n",
       "       [13, 11, 43],\n",
       "       [88, 37, 35],\n",
       "       [47, 21, 41],\n",
       "       [55, 71, 71],\n",
       "       [19, 34,  1],\n",
       "       [ 5, 47, 17],\n",
       "       [44,  6,  9]])"
      ]
     },
     "metadata": {},
     "output_type": "display_data"
    }
   ],
   "source": [
    "import numpy as np\n",
    "from IPython.display import display\n",
    "\n",
    "# Create a NumPy array with shape (10, 3) filled with random integers\n",
    "my_array = np.random.randint(0, 100, size=(10, 3))\n",
    "\n",
    "# Display the array\n",
    "display(my_array)\n"
   ]
  },
  {
   "cell_type": "code",
   "execution_count": null,
   "metadata": {},
   "outputs": [],
   "source": []
  }
 ],
 "metadata": {
  "kernelspec": {
   "display_name": "ml",
   "language": "python",
   "name": "python3"
  },
  "language_info": {
   "codemirror_mode": {
    "name": "ipython",
    "version": 3
   },
   "file_extension": ".py",
   "mimetype": "text/x-python",
   "name": "python",
   "nbconvert_exporter": "python",
   "pygments_lexer": "ipython3",
   "version": "3.9.19"
  }
 },
 "nbformat": 4,
 "nbformat_minor": 2
}
